{
 "cells": [
  {
   "cell_type": "code",
   "execution_count": 1,
   "metadata": {},
   "outputs": [],
   "source": [
    "from bs4 import BeautifulSoup as bs\n",
    "import requests"
   ]
  },
  {
   "cell_type": "code",
   "execution_count": 2,
   "metadata": {},
   "outputs": [],
   "source": [
    "page = requests.get(\"http://www.assemblee-nationale.fr/9/dossiers/880097.asp\")"
   ]
  },
  {
   "cell_type": "code",
   "execution_count": 3,
   "metadata": {},
   "outputs": [],
   "source": [
    "page.text\n",
    "page_soup = bs(page.text, \"html.parser\")"
   ]
  },
  {
   "cell_type": "code",
   "execution_count": 4,
   "metadata": {},
   "outputs": [],
   "source": [
    "content = page_soup.find_all(align=\"left\")[1]"
   ]
  },
  {
   "cell_type": "code",
   "execution_count": 5,
   "metadata": {},
   "outputs": [
    {
     "data": {
      "text/plain": [
       "\"TENDANT A COMPLETER L'ARTICLE 1411 DU CODE GENERAL DES IMPOTS AFIN DE FAIRE BENEFICIER D'UN ABATTEMENT SUR LA TAXE D'HABITATION LES PERSONNES AGEES DE PLUS DE SOIXANTE-CINQ ANS ET AYANT ELEVE TROIS ENFANTS ET PLUS\""
      ]
     },
     "execution_count": 5,
     "metadata": {},
     "output_type": "execute_result"
    }
   ],
   "source": [
    "content_text = page_soup.find_all(align=\"left\")[1].text\n",
    "ind_1 = content_text.split(\"\\n\")[0].find(content.find_all(\"a\")[-2].text)+len(content.find_all(\"a\")[-2].text)+2\n",
    "ind_2 = content_text.split(\"\\n\")[0].find(\"n°\")-2\n",
    "content_text.split(\"\\n\")[0][ind_1:ind_2]"
   ]
  },
  {
   "cell_type": "code",
   "execution_count": null,
   "metadata": {},
   "outputs": [],
   "source": []
  }
 ],
 "metadata": {
  "kernelspec": {
   "display_name": "Scraping_Env",
   "language": "python",
   "name": "scraping_env"
  },
  "language_info": {
   "codemirror_mode": {
    "name": "ipython",
    "version": 3
   },
   "file_extension": ".py",
   "mimetype": "text/x-python",
   "name": "python",
   "nbconvert_exporter": "python",
   "pygments_lexer": "ipython3",
   "version": "3.6.5"
  }
 },
 "nbformat": 4,
 "nbformat_minor": 2
}
