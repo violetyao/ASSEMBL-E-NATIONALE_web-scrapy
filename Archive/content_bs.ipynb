{
 "cells": [
  {
   "cell_type": "code",
   "execution_count": null,
   "metadata": {},
   "outputs": [],
   "source": [
    "from bs4 import BeautifulSoup as bs\n",
    "import requests\n",
    "import os.path\n",
    "import pandas as pd\n",
    "\n",
    "save_path = './manifesto/'\n",
    "infos = []\n",
    "for i in range(2157):\n",
    "\n",
    "    info = []\n",
    "    contents= \"\"\n",
    "    with open(os.path.join(save_path, str(i)+ '.txt'), 'r') as file:\n",
    "        try: \n",
    "            page_soup = bs(file, \"html.parser\")\n",
    "            content = page_soup.find_all(align=\"left\")[1] \n",
    "            content_text = page_soup.find_all(align=\"left\")[1].text\n",
    "            ind_1 = content_text.split(\"\\n\")[0].find(content.find_all(\"a\")[-2].text)+len(content.find_all(\"a\")[-2].text)+2\n",
    "            ind_2 = content_text.split(\"\\n\")[0].find(\"n°\")-2\n",
    "            contents += content_text.split(\"\\n\")[0][ind_1:ind_2]\n",
    "        except:\n",
    "            for line in file:\n",
    "                startkey = '<meta name=\"TITRES_DOC\" content=\"'\n",
    "                start = line.find(startkey)\n",
    "                if line[start + len(startkey)+1:start + len(startkey)+2] !='\"':\n",
    "                    endkey = '\">'\n",
    "                    end = line.find(endkey)\n",
    "                    startkey = 'Projet'\n",
    "                    start = line.find(startkey)\n",
    "                    if (start != -1) and (end != -1):\n",
    "                        contents += line[start:end]\n",
    "    info = [contents]    \n",
    "    infos.append(info)"
   ]
  },
  {
   "cell_type": "code",
   "execution_count": null,
   "metadata": {},
   "outputs": [],
   "source": [
    "df = pd.DataFrame(infos, columns=['content']) "
   ]
  },
  {
   "cell_type": "code",
   "execution_count": null,
   "metadata": {},
   "outputs": [],
   "source": [
    "df.to_csv('pure_content_beautifulsoup.csv')"
   ]
  }
 ],
 "metadata": {
  "kernelspec": {
   "display_name": "Python 3",
   "language": "python",
   "name": "python3"
  },
  "language_info": {
   "codemirror_mode": {
    "name": "ipython",
    "version": 3
   },
   "file_extension": ".py",
   "mimetype": "text/x-python",
   "name": "python",
   "nbconvert_exporter": "python",
   "pygments_lexer": "ipython3",
   "version": "3.6.5"
  }
 },
 "nbformat": 4,
 "nbformat_minor": 2
}
