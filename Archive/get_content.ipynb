{
 "cells": [
  {
   "cell_type": "code",
   "execution_count": 1,
   "metadata": {},
   "outputs": [],
   "source": [
    "from bs4 import BeautifulSoup as bs\n",
    "import requests"
   ]
  },
  {
   "cell_type": "code",
   "execution_count": 2,
   "metadata": {},
   "outputs": [],
   "source": [
    "page = requests.get(\"http://www.assemblee-nationale.fr/9/dossiers/880097.asp\")"
   ]
  },
  {
   "cell_type": "code",
   "execution_count": 4,
   "metadata": {},
   "outputs": [
    {
     "data": {
      "text/plain": [
       "'<html><head>\\r\\n<meta http-equiv=\"Content-Type\" content=\"text/html; charset=ISO-8859-15\">\\r\\n<TITLE>Assemblée nationale - ABATTEMENT DE LA TAXE D\\'HABITATION</TITLE>\\n<meta name=\"LEGISLATURE_SESSION\" content=\"9ème législature\">\\n<meta name=\"TYPE_DOCUMENT\" content=\"dossier\">\\n<meta name=\"ORIGINE_DOCUMENT\" content=\"Assemblée nationale\">\\n<meta name=\"URL_DOSSIER\" content=\"/9/dossiers/880097.asp\">\\n<meta name=\"TITRES_DOC\" content=\"\">\\n<meta name=\"URLS_DOC\" content=\"\">\\n<meta name=\"DISCUTE_SEANCE\" content=\"N\">\\n<meta name=\"LOI_PROMULGUEE\" content=\"\">\\n<meta name=\"LIEN_LOI_PROMULGUEE\" content=\"\">\\n\\r\\n<link rel=\"stylesheet\" href=\"/commun/style1.css\"></head>\\r\\n<body>\\r\\n<script type=\"text/javascript\" src=\"/commun/jquery.js\"></script>\\r\\n<script type=\"text/javascript\" src=\"/commun/ceresian/js/superfish.js\"></script>\\r\\n<script type=\"text/javascript\" src=\"/commun/ceresian/js/menu-superfish.js\"></script>\\r\\n<script type=\"text/javascript\" src=\"/commun/an-utf8-2010.js\"></script>\\r\\n<script type=\"text/javascript\" src=\"/commun/redirectNouveauDL.js\"></script>\\r\\n\\r\\n<link href=\"/commun/print2010.css\" rel=\"stylesheet\" type=\"text/css\" media=\"print\" />\\r\\n<link href=\"/commun/redirectNouveauDL\" rel=\"stylesheet\" type=\"text/css\" media=\"print\" />\\r\\n<!--[if lte IE 9]>\\r\\n<style>\\r\\n#header{text-align:center;}\\r\\n#logo span.leg {position:absolute;}\\r\\n.sf-menu li.sfhover{background:#e8e8e8;}\\r\\n.sf-menu li.sfhover a{color:#4a4646;}\\r\\n.sf-menu li.sfhover span.bord{background:url(\"/commun/ceresian/images/dropdownarrow-gris.png\") no-repeat center center transparent;}\\r\\n.sf-menu li ul {border:1px solid #d4d4d4;border-top:0;margin-left:0;}\\r\\n.sf-menu li ul li ul {border:1px solid #cacaca;}\\r\\n</style>\\r\\n<![endif]-->\\r\\n<!--[if lte IE 7]>\\r\\n<style>\\r\\n#rechercheid input.submit{left:110px;background: #e8e8e8; top: -28px;}\\r\\n#rechercheid label.hide {left:-90px;top: 25px;}\\r\\n#wrapper-nav{background: url(\"/commun/ceresian/images/fond-wrapper-nav.png\") repeat-x 0 0 transparent;}\\r\\n</style>\\r\\n<![endif]-->\\r\\n\\r\\n\\r\\n<header>\\r\\n\\t<div id=\"wrapper-header\"><!-- #wrapper, used for white background of the page -->\\r\\n\\t\\t<div id=\"header\">\\r\\n\\t\\t<div id=\"langues-shadow\"></div>\\r\\n\\t\\t<div id=\"wrapper-nav\"></div>\\r\\n\\t\\t\\t<ul class=\"hide\" id=\"accessibility-nav\">\\r\\n\\t\\t\\t\\t<li><a href=\"#nav\" accesskey=\"9\">Aller au menu</a></li>\\r\\n\\t\\t\\t\\t<li><a href=\"#page\" accesskey=\"s\">Aller au contenu</a></li>\\r\\n\\t\\t\\t\\t<li><a href=\"#recherchechampssaisie\" accesskey=\"4\">Aller &agrave; la recherche</a></li>\\r\\n\\t\\t\\t\\t<li><a href=\"#\" accesskey=\"0\">Politique d\\x92accessibilité</a></li>\\r\\n\\t\\t\\t\\t<li><a href=\"/index.asp\" accesskey=\"1\">Accueil</a></li>\\r\\n\\t\\t\\t\\t<li><a href=\"/plan.asp\" accesskey=\"3\">Plan du site</a></li>\\r\\n\\t\\t\\t\\t<li><a href=\"/aide.asp\" accesskey=\"6\">Aide</a></li>\\r\\n\\t\\t\\t\\t<li><a href=\"/ecrire.asp\" accesskey=\"7\">Contact</a></li>\\r\\n\\t\\t\\t</ul>\\r\\n\\t\\t\\t<div id=\"header-inner\">\\r\\n\\t\\t\\t\\t<div id=\"langues\">\\r\\n\\t\\t\\t\\t\\t<ul id=\"lang\">\\r\\n\\t\\t\\t\\t\\t\\t<!--<li class=\"first\"><a lang=\"de\" href=\"/deutsch/index.asp\">Deutsch</a></li>-->\\r\\n\\t\\t\\t\\t\\t\\t<li class=\"first\"><a lang=\"en\" href=\"/english/index.asp\">English</a></li>\\r\\n                        <li><a lang=\"de\" href=\"http://www2.assemblee-nationale.fr/langues/willkommen-auf-der-deutschsprachigen-webseite-der-franzoesischen-nationalversammlung\">Deutsch</a></li>\\r\\n\\t\\t\\t\\t\\t\\t<!--<li><a lang=\"es\" href=\"/espanol/index.asp\">Español</a></li>\\r\\n\\t\\t\\t\\t\\t\\t<li><a lang=\"it\" href=\"/italiano/index.asp\">Italiano</a></li>-->\\r\\n\\t\\t\\t\\t\\t\\t<!-- <li class=\"first\"><a title=\"Le service de vocalisation est actuellement indisponible. De nouvelles fonctions d\\x92accessibilité du site sont en cours d\\x92élaboration. Merci de votre compréhension.\"><img class=\"ico\" src=\"/commun/2011/images/content/malvoyants.png\"> Malvoyants</a></li> -->\\r\\n\\t\\t\\t\\t\\t</ul>\\r\\n\\t\\t\\t\\t\\t<!--<a id=\"advanced-search\" href=\"http://recherche2.assemblee-nationale.fr/index.jsp\">Recherche avancée</a>-->\\r\\n\\t\\t\\t\\t\\t<form id=\"rechercheid\" method=\"post\" action=\"http://www2.assemblee-nationale.fr/recherche/resultats_recherche\">\\r\\n\\t\\t\\t\\t\\t\\t<label for=\"recherchechampssaisie\" class=\"hide\">Recherche :</label>\\r\\n\\t\\t\\t\\t\\t\\t<input type=\"text\" id=\"recherchechampssaisie\" name=\"contenu\" class=\"text\" value=\"\" />\\r\\n\\t\\t\\t\\t\\t\\t<input type=\"submit\" class=\"submit\" value=\"OK\" title=\"Rechercher\" />\\r\\n\\t\\t\\t\\t\\t</form>\\r\\n\\t\\t\\t\\t\\r\\n\\t\\t\\t\\t</div>\\r\\n\\t\\t\\t\\t<div id=\"logo\"><span class=\"leg\"> </span><span class=\"effect\">Assemblée nationale</span></div>\\r\\n\\t\\t\\t\\t\\r\\n\\t\\t\\t\\t<nav>\\r\\n\\t\\t\\t\\t<ul class=\"sf-menu\">\\r\\n\\t\\t\\t\\t\\t\\t<li id=\"nav-home\">\\r\\n\\t\\t\\t\\t\\t\\t\\t<a href=\"/index.asp\" accesskey=\"1\"> </a>\\r\\n\\t\\t\\t\\t\\t\\t</li>\\r\\n\\t\\t\\t\\t\\t\\t<li id=\"nav-deputies\">\\r\\n\\t\\t\\t\\t\\t\\t\\t<a href=\"#\">Les<br/>députés<span class=\"bord\"> </span></a>\\r\\n\\t\\t\\t\\t\\t\\t\\t<ul>\\r\\n\\t\\t\\t\\t\\t\\t\\t\\t<li><a id=\"menupresident\" href=\"http://presidence.assemblee-nationale.fr\">Le Président</a></li>\\r\\n\\t\\t\\t\\t\\t\\t\\t\\t<li><a href=\"http://www2.assemblee-nationale.fr/qui\">577 députés</a></li>\\r\\n\\t\\t\\t\\t\\t\\t\\t\\t<li><a href=\"http://www2.assemblee-nationale.fr/deputes2/les-collaborateurs\">Les collaborateurs</a></li>\\r\\n\\t\\t\\t\\t\\t\\t\\t\\t<li><a href=\"http://www2.assemblee-nationale.fr/15/le-bureau-de-l-assemblee-nationale\">Le Bureau</a></li>\\r\\n\\t\\t\\t\\t\\t\\t\\t\\t<li><a href=\"http://www2.assemblee-nationale.fr/15/la-conference-des-presidents\">La Conférence des Présidents</a></li>\\r\\n\\t\\t\\t\\t\\t\\t\\t\\t<li><a href=\"http://www2.assemblee-nationale.fr/15/les-groupes-politiques/\">Les Groupes politiques</a></li>\\r\\n\\t\\t\\t\\t\\t\\t\\t\\t<li><a href=\"http://www2.assemblee-nationale.fr/decouvrir-l-assemblee/role-et-pouvoirs-de-l-assemblee-nationale/le-depute/le-statut-du-depute\">Statut des députes</a></li>\\r\\n\\t\\t\\t\\t\\t\\t\\t\\t<li><a href=\"http://www2.assemblee-nationale.fr/deputes2/deontologie-a-l-assemblee-nationale\">Déontologie</a></li>\\r\\n\\t\\t\\t\\t\\t\\t\\t\\t<li><a href=\"http://www2.assemblee-nationale.fr/deputes2/elections-legislatives-des-11-et-18-juin-2017\">Élections législatives</a></li>\\r\\n\\t\\t\\t\\t\\t\\t\\t\\t<li><a href=\"http://www2.assemblee-nationale.fr/sycomore/recherche\">Anciens députés</a></li>\\r\\n\\t\\t\\t\\t\\t\\t\\t\\t<li><a href=\"http://www2.assemblee-nationale.fr/deputes/liste/alphabetique\">Contacter son député</a></li>\\r\\n\\t\\t\\t\\t\\t\\t\\t</ul>\\r\\n\\t\\t\\t\\t\\t\\t</li>\\r\\n\\t\\t\\t\\t\\t\\t<li id=\"nav-org-tra\">\\r\\n\\t\\t\\t\\t\\t\\t\\t<a href=\"#\">Dans<br/>l\\'Hémicycle<span class=\"bord\"> </span></a>\\r\\n\\t\\t\\t\\t\\t\\t\\t<ul>\\r\\n\\t\\t\\t\\t\\t\\t\\t\\t<li><a href=\"/agendas/odj.asp\">Ordre du jour</a></li>\\r\\n\\t\\t\\t\\t\\t\\t\\t\\t<li><a href=\"/15/seance/previsionnel.asp\">Calendrier de la session</a></li>\\r\\n\\t\\t\\t\\t\\t\\t\\t\\t<li><a href=\"/15/debats/index.asp\">Comptes rendus des séances</a></li>\\r\\n\\t\\t\\t\\t\\t\\t\\t\\t<li><a href=\"#\">Scrutins<span class=\"sf-sub-indicator\"></span></a>\\r\\n\\t\\t\\t\\t\\t\\t\\t\\t\\t<ul>\\r\\n\\t\\t\\t\\t\\t\\t\\t\\t\\t\\t<li><a href=\"http://www2.assemblee-nationale.fr/scrutins/liste/(legislature)/15\">Tous les scrutins publics</a></li>\\r\\n\\t\\t\\t\\t\\t\\t\\t\\t\\t\\t<li><a href=\"http://www2.assemblee-nationale.fr/scrutins/liste/(legislature)/15/(type)/SOR\">Les scrutins publics ordinaires</a></li>\\r\\n\\t\\t\\t\\t\\t\\t\\t\\t\\t\\t<li><a href=\"http://www2.assemblee-nationale.fr/scrutins/liste/(legislature)/15/(type)/SSO\">Les scrutins solennels sur un texte</a></li>\\r\\n\\t\\t\\t\\t\\t\\t\\t\\t\\t\\t<li><a href=\"http://www2.assemblee-nationale.fr/scrutins/liste/(legislature)/15/(type)/AUT\">Autres scrutins solennels (déclarations, motions de censure\\x85)</a></li>\\r\\n\\t\\t\\t\\t\\t\\t\\t\\t\\t</ul>\\r\\n\\t\\t\\t\\t\\t\\t\\t\\t</li>\\r\\n                                <li><a href=\"http://www2.assemblee-nationale.fr/le-congres-du-parlement\">Le Congrès</a></li>\\r\\n\\t\\t\\t\\t\\t\\t\\t\\t<li><a href=\"/15/documents/engagements.asp\">Engagements de responsabilité et motions de censure</a></li>\\r\\n\\t\\t\\t\\t\\t\\t\\t\\t<li><a href=\"/budget/index.asp\">Budget et sécurité sociale</a></li>\\t\\t\\t\\t\\t\\t\\r\\n\\t\\t\\t\\t\\t\\t\\t\\t<li><a href=\"/infos/assister.asp\">Assister à une séance</a></li>\\r\\n\\t\\t\\t\\t\\t\\t\\t\\t<li>\\r\\n\\t\\t\\t\\t\\t\\t\\t\\t\\t<a href=\"#\">Anciennes législatures<span class=\"sf-sub-indicator\"></span></a>\\r\\n\\t\\t\\t\\t\\t\\t\\t\\t\\t<ul>\\r\\n\\t\\t\\t\\t\\t\\t\\t\\t\\t\\t<li><a href=\"/14/documents/archives-14leg.asp\">XIV<sup>e</sup> législature</a></li>\\r\\n\\t\\t\\t\\t\\t\\t\\t\\t\\t\\t<li><a href=\"/13/documents/archives-13leg.asp\">XIII<sup>e</sup> législature</a></li>\\r\\n\\t\\t\\t\\t\\t\\t\\t\\t\\t\\t<li><a href=\"/12/documents/archives-12leg.asp\">XII<sup>e</sup> législature</a></li>\\r\\n\\t\\t\\t\\t\\t\\t\\t\\t\\t\\t<li><a href=\"/11/documents/archives-11leg.asp\">XI<sup>e</sup> législature</a></li>\\r\\n\\t\\t\\t\\t\\t\\t\\t\\t\\t\\t<li><a href=\"http://archives.assemblee-nationale.fr/\">Autres législatures</a></li>\\r\\n\\t\\t\\t\\t\\t\\t\\t\\t\\t</ul>\\r\\n\\t\\t\\t\\t\\t\\t\\t\\t</li>\\r\\n\\t\\t\\t\\t\\t\\t\\t</ul>\\r\\n\\t\\t\\t\\t\\t\\t</li>\\r\\n\\t\\t\\t\\t\\t\\t<li id=\"nav-commissions\">\\r\\n\\t\\t\\t\\t\\t\\t\\t<a href=\"#\">Commissions et<br/>autres instances<span class=\"bord\"> </span></a>\\r\\n\\t\\t\\t\\t\\t\\t\\t<ul>\\r\\n\\t\\t\\t\\t\\t\\t\\t\\t<li><a href=\"/agendas/index.asp\">Agendas</a></li>\\r\\n\\t\\t\\t\\t\\t\\t\\t\\t<li>\\r\\n\\t\\t\\t\\t\\t\\t\\t\\t\\t<a href=\"#\">Les Commissions permanentes<span class=\"sf-sub-indicator\"></span></a>\\r\\n\\t\\t\\t\\t\\t\\t\\t\\t\\t<ul>\\r\\n\\t\\t\\t\\t\\t\\t\\t\\t\\t\\t<li><a href=\"/commissions/419604_tab.asp\">Affaires culturelles</a></li>\\r\\n\\t\\t\\t\\t\\t\\t\\t\\t\\t\\t<li><a href=\"/commissions/419610_tab.asp\">Affaires économiques</a></li>\\r\\n\\t\\t\\t\\t\\t\\t\\t\\t\\t\\t<li><a href=\"/commissions/59047_tab.asp\">Affaires étrangères</a></li>\\r\\n\\t\\t\\t\\t\\t\\t\\t\\t\\t\\t<li><a href=\"/commissions/420120_tab.asp\">Affaires sociales</a></li>\\r\\n\\t\\t\\t\\t\\t\\t\\t\\t\\t\\t<li><a href=\"/commissions/59046_tab.asp\">Défense</a></li>\\r\\n\\t\\t\\t\\t\\t\\t\\t\\t\\t\\t<li><a href=\"/commissions/419865_tab.asp\">Développement durable</a></li>\\r\\n\\t\\t\\t\\t\\t\\t\\t\\t\\t\\t<li><a href=\"/commissions/59048_tab.asp\">Finances</a></li>\\r\\n\\t\\t\\t\\t\\t\\t\\t\\t\\t\\t<li><a href=\"/commissions/59051_tab.asp\">Lois</a></li>\\r\\n\\t\\t\\t\\t\\t\\t\\t\\t\\t</ul>\\r\\n\\t\\t\\t\\t\\t\\t\\t\\t</li>\\r\\n\\t\\t\\t\\t\\t\\t\\t\\t<li>\\r\\n\\t\\t\\t\\t\\t\\t\\t\\t\\t<a href=\"#\">Autres commissions<span class=\"sf-sub-indicator\"></span></a>\\r\\n\\t\\t\\t\\t\\t\\t\\t\\t\\t<ul>\\r\\n\\t\\t\\t\\t\\t\\t\\t\\t\\t\\t<li><a href=\"http://www2.assemblee-nationale.fr/15/autres-commissions/commission-des-affaires-europeennes\">Affaires européennes</a></li>\\r\\n\\t\\t\\t\\t\\t\\t\\t\\t\\t\\t<li><a href=\"http://www2.assemblee-nationale.fr/15/autres-commissions/commissions-d-enquete\">Commissions d\\'enquête</a></li>\\r\\n\\t\\t\\t\\t\\t\\t\\t\\t\\t\\t<li><a href=\"http://www2.assemblee-nationale.fr/15/autres-commissions/commissions-speciales\">Commissions spéciales</a></li>\\r\\n                                        <li><a href=\"http://www2.assemblee-nationale.fr/15/autres-commissions/commissions-mixtes-paritaires-composition\">Commissions mixtes paritaires</a></li>\\r\\n\\t\\t\\t\\t\\t\\t\\t\\t\\t\\t<li><a href=\"http://www2.assemblee-nationale.fr/15/autres-commissions/commission-speciale-chargee-de-verifier-et-d-apurer-les-comptes/\">Commission chargée d\\'apurer les comptes</a></li>\\r\\n\\t\\t\\t\\t\\t\\t\\t\\t\\t\\t<li><a href=\"http://www2.assemblee-nationale.fr/15/autres-commissions/commission-chargee-de-l-application-de-l-article-26-de-la-constitution\">Commission-article 26 de la Constitution</a></li>\\r\\n\\t\\t\\t\\t\\t\\t\\t\\t\\t</ul>\\r\\n\\t\\t\\t\\t\\t\\t\\t\\t</li>\\r\\n\\t\\t\\t\\t\\t\\t\\t\\t<li>\\r\\n\\t\\t\\t\\t\\t\\t\\t\\t\\t<a href=\"#\">Délégations, comité, office et autres instances<span class=\"sf-sub-indicator\"></span></a>\\r\\n\\t\\t\\t\\t\\t\\t\\t\\t\\t<ul>\\r\\n\\t\\t\\t\\t\\t\\t\\t\\t\\t\\t<li><a href=\"http://www2.assemblee-nationale.fr/15/les-delegations-comite-et-office-parlementaire/delegation-aux-droits-des-femmes\">Délégation aux Droits<br> des Femmes</a></li>\\r\\n\\t\\t\\t\\t\\t\\t\\t\\t\\t\\t<li><a href=\"http://www2.assemblee-nationale.fr/15/les-delegations-comite-et-office-parlementaire/delegation-aux-collectivites-territoriales-et-a-la-decentralisation\">Délégation aux collectivités territoriales et à la décentralisation</a></li>\\r\\n\\t\\t\\t\\t\\t\\t\\t\\t\\t\\t<li><a href=\"http://www2.assemblee-nationale.fr/15/les-delegations-comite-et-office-parlementaire/delegation-aux-outre-mer\">Délégation aux outre-mer</a></li>\\r\\n\\t\\t\\t\\t\\t\\t\\t\\t\\t\\t<li><a href=\"http://www2.assemblee-nationale.fr/15/les-delegations-comite-et-office-parlementaire/delegation-parlementaire-au-renseignement\">Délégation au renseignement</a></li>\\r\\n\\t\\t\\t\\t\\t\\t\\t\\t\\t\\t<li><a href=\"http://www2.assemblee-nationale.fr/15/les-delegations-comite-et-office-parlementaire/comite-d-evaluation-et-de-controle\">Comité d\\'évaluation et de contrôle</a></li>\\r\\n\\t\\t\\t\\t\\t\\t\\t\\t\\t\\t<li><a href=\"http://www2.assemblee-nationale.fr/15/les-delegations-comite-et-office-parlementaire/office-parlementaire-d-evaluation-des-choix-scientifiques-et-technologiques\">Office parlementaire d\\'évaluation des choix scientifiques et technologiques (OPECST)</a></li>\\r\\n\\t\\t\\t\\t\\t\\t\\t\\t\\t\\t<li><a href=\"http://www2.assemblee-nationale.fr/qui/pour-une-nouvelle-assemblee-nationale-les-rendez-vous-des-reformes-2017-2022\">Groupes de travail des réformes</a></li>\\r\\n\\t\\t\\t\\t\\t\\t\\t\\t\\t</ul>\\r\\n\\t\\t\\t\\t\\t\\t\\t\\t</li>\\t\\t\\t\\t\\t\\t\\t\\t<li><a href=\"http://www2.assemblee-nationale.fr/15/missions-d-information\">Missions d\\'information</a></li>\\r\\n\\t\\t\\t\\t\\t\\t\\t\\t<li><a href=\"http://www2.assemblee-nationale.fr/15/les-groupes-d-etudes\">Groupes d\\'études</a></li>\\r\\n\\t\\t\\t\\t\\t\\t\\t\\t<li><a href=\"http://www2.assemblee-nationale.fr/commissions-et-autres-instances/organismes-extra-parlementaires/organismes-extra-parlementaires\">Organismes extra-parlementaires</a></li>\\r\\n\\t\\t\\t\\t\\t\\t\\t\\t<li>\\r\\n\\t\\t\\t\\t\\t\\t\\t\\t\\t<a href=\"#\">Anciennes législatures<span class=\"sf-sub-indicator\"></span></a>\\r\\n\\t\\t\\t\\t\\t\\t\\t\\t\\t<ul>\\r\\n\\t\\t\\t\\t\\t\\t\\t\\t\\t\\t<li><a href=\"/14/documents/archives-14leg.asp\">XIV<sup>e</sup> législature</a></li>\\r\\n\\t\\t\\t\\t\\t\\t\\t\\t\\t\\t<li><a href=\"/13/documents/archives-13leg.asp\">XIII<sup>e</sup> législature</a></li>\\r\\n\\t\\t\\t\\t\\t\\t\\t\\t\\t\\t<li><a href=\"/12/documents/archives-12leg.asp\">XII<sup>e</sup> législature</a></li>\\r\\n\\t\\t\\t\\t\\t\\t\\t\\t\\t\\t<li><a href=\"/11/documents/archives-11leg.asp\">XI<sup>e</sup> législature</a></li>\\r\\n\\t\\t\\t\\t\\t\\t\\t\\t\\t\\t<li><a href=\"http://archives.assemblee-nationale.fr/\">Autres législatures</a></li>\\r\\n\\t\\t\\t\\t\\t\\t\\t\\t\\t</ul>\\r\\n\\t\\t\\t\\t\\t\\t\\t\\t</li>\\r\\n\\t\\t\\t\\t\\t\\t\\t</ul>\\r\\n\\t\\t\\t\\t\\t\\t</li>\\r\\n\\t\\t\\t\\t\\t\\t<li id=\"nav-docs\">\\r\\n\\t\\t\\t\\t\\t\\t\\t<a href=\"#\">Documents<br/>parlementaires<span class=\"bord\"> </span></a>\\r\\n\\t\\t\\t\\t\\t\\t\\t<ul>\\t\\r\\n\\t\\t\\t\\t\\t\\t\\t\\t<li>\\r\\n\\t\\t\\t\\t\\t\\t\\t\\t\\t<a href=\"#\">Documents de référence<span class=\"sf-sub-indicator\"></span></a>\\r\\n\\t\\t\\t\\t\\t\\t\\t\\t\\t<ul>\\r\\n\\t\\t\\t\\t\\t\\t\\t\\t\\t\\t<li><a href=\"/connaissance/constitution.asp\">Constitution</a></li>\\r\\n\\t\\t\\t\\t\\t\\t\\t\\t\\t\\t<li><a href=\"/connaissance/reglement.asp\">Règlement de l\\'Assemblée nationale</a></li>\\r\\n\\t\\t\\t\\t\\t\\t\\t\\t\\t\\t<li><a href=\"/connaissance/instruction.asp\">Instruction générale du Bureau (IGB)</a></li>\\r\\n\\t\\t\\t\\t\\t\\t\\t\\t\\t\\t<li><a href=\"/connaissance/loi15042009.asp\">Loi organique n° 2009-403 du 15 avril 2009</a></li>\\r\\n\\t\\t\\t\\t\\t\\t\\t\\t\\t\\t<li><a href=\"/connaissance/reglement_congres.asp\">Règlement du Congrès</a></li> \\r\\n\\t\\t\\t\\t\\t\\t\\t\\t\\t\\t<li><a href=\"/connaissance/pouvoirs-publics/pouvoirs_publics-08.asp#P13383_1259070\">Ordonnance relative au fonctionnement des assemblées parlementaires</a></li> \\r\\n\\t\\t\\t\\t\\t\\t\\t\\t\\t\\t<li><a href=\"/connaissance/ordonnance-finances.asp\">Loi organique relative aux lois de finances</a></li> \\r\\n\\t\\t\\t\\t\\t\\t\\t\\t\\t\\t<li><a href=\"/connaissance/pouvoirs-publics/pouvoirs_publics.asp\">Recueil des textes relatifs aux pouvoirs publics</a></li> \\r\\n\\t\\t\\t\\t\\t\\t\\t\\t\\t</ul>\\r\\n\\t\\t\\t\\t\\t\\t\\t\\t</li>\\r\\n\\t\\t\\t\\t\\t\\t\\t\\t<li><a href=\"/15/documents/index-projets.asp\">Projets de loi</a></li>\\r\\n\\t\\t\\t\\t\\t\\t\\t\\t<li><a href=\"/15/documents/index-proposition.asp\">Propositions de loi</a></li>\\r\\n\\t\\t\\t\\t\\t\\t\\t\\t<li><a href=\"http://www2.assemblee-nationale.fr/recherche/amendements\">Amendements</a></li>\\r\\n\\t\\t\\t\\t\\t\\t\\t\\t<li><a href=\"/15/documents/index-ta.asp\">Textes adoptés</a></li>\\r\\n\\t\\t\\t\\t\\t\\t\\t\\t<li><a href=\"/15/documents/index-rapports.asp\">Rapports législatifs</a></li>\\r\\n\\t\\t\\t\\t\\t\\t\\t\\t<li><a href=\"/15/documents/index-dossier.asp\">Dossiers législatifs</a></li>\\r\\n\\t\\t\\t\\t\\t\\t\\t\\t<li><a href=\"/15/budget/redirect/liste_rapporteurs.asp\">Documents budgétaires</a></li>\\r\\n\\t\\t\\t\\t\\t\\t\\t\\t<li><a href=\"/15/liste/rapport_information1.asp\">Rapports d\\'information</a></li>\\r\\n\\t\\t\\t\\t\\t\\t\\t\\t<li><a href=\"/15/liste/rapport_application_lois1.asp\">Rapports sur l\\'application de la loi</a></li>\\r\\n\\t\\t\\t\\t\\t\\t\\t\\t<li><a href=\"/controle/questions.asp\">Questions écrites et orales</a></li>\\r\\n\\t\\t\\t\\t\\t\\t\\t\\t<li><a href=\"/15/documents/motions.asp\">Motions et résolutions européennes</a></li>\\r\\n\\t\\t\\t\\t\\t\\t\\t\\t<li><a href=\"/15/documents/autres-motions.asp\">Autres motions et résolutions</a></li>\\r\\n\\t\\t\\t\\t\\t\\t\\t\\t<li><a href=\"/documents/index.asp\">Tous les documents parlementaires</a></li>\\r\\n\\t\\t\\t\\t\\t\\t\\t</ul>\\r\\n\\t\\t\\t\\t\\t\\t</li>\\r\\n\\t\\t\\t\\t\\t\\t<li id=\"nav-international\">\\r\\n\\t\\t\\t\\t\\t\\t\\t<a href=\"#\">Europe<br/>et international<span class=\"bord\"> </span></a>\\r\\n\\t\\t\\t\\t\\t\\t\\t<ul>\\t\\t\\t\\t\\t\\t\\t\\t\\r\\n\\t\\t\\t\\t\\t\\t\\t\\t<li><a href=\"http://www2.assemblee-nationale.fr/agendas/agenda-international\">L\\'agenda européen et international</a></li>\\r\\n\\t\\t\\t\\t\\t\\t\\t\\t<li><a id=\"menueurope\" href=\"#\">L\\'Assemblée nationale et l\\'Europe<span class=\"sf-sub-indicator\"></span></a>\\r\\n\\t\\t\\t\\t\\t\\t\\t\\t\\t<ul>\\r\\n\\t\\t\\t\\t\\t\\t\\t\\t\\t\\t<li><a href=\"http://www2.assemblee-nationale.fr/15/autres-commissions/commission-des-affaires-europeennes\">La Commission des Affaires européennes</a></li>\\r\\n\\t\\t\\t\\t\\t\\t\\t\\t\\t\\t<li><a href=\"http://www2.assemblee-nationale.fr/europe-et-international/activites-parlementaires-internationales/les-assemblees-parlementaires-internationales/assemblee-parlementaire-du-conseil-de-l-europe\">L\\x92Assemblée parlementaire du Conseil de l\\x92Europe</a></li>\\r\\n\\t\\t\\t\\t\\t\\t\\t\\t\\t\\t<li><a href=\"http://www2.assemblee-nationale.fr/europe-et-international/activites-parlementaires-internationales/les-relations-parlementaires-franco-allemandes\">Les relations franco-allemandes</a></li>\\r\\n\\t\\t\\t\\t\\t\\t\\t\\t\\t</ul>\\r\\n\\t\\t\\t\\t\\t\\t\\t\\t</li>\\r\\n\\t\\t\\t\\t\\t\\t\\t\\t<li><a href=\"/international/index.asp\">Activités parlementaires internationales</a></li>\\r\\n\\t\\t\\t\\t\\t\\t\\t\\t<li><a href=\"/international/groupes-amitie-index.asp\">Groupes d\\'amitié</a></li>\\r\\n\\t\\t\\t\\t\\t\\t\\t</ul>\\r\\n\\t\\t\\t\\t\\t\\t</li>\\r\\n\\t\\t\\t\\t\\t\\t<li id=\"nav-ass-nat\">\\r\\n\\t\\t\\t\\t\\t\\t\\t<a href=\"#\">Découvrir<br/>l\\'Assemblée<span class=\"bord\"> </span></a>\\r\\n\\t\\t\\t\\t\\t\\t\\t<ul>\\r\\n\\t\\t\\t\\t\\t\\t\\t\\t<li><a href=\"/connaissance/bienvenue.asp\">Bienvenue à l\\'Assemblée nationale</a></li>\\r\\n\\t\\t\\t\\t\\t\\t\\t\\t<li><a href=\"/infos/visiter.asp\">Visiter l\\'Assemblée nationale</a></li>\\r\\n\\t\\t\\t\\t\\t\\t\\t\\t<li><a href=\"/connaissance/index.asp\">Rôle et pouvoirs de l\\'Assemblée</a></li>\\r\\n\\t\\t\\t\\t\\t\\t\\t\\t<li>\\r\\n\\t\\t\\t\\t\\t\\t\\t\\t\\t<a href=\"#\">Statistiques<span class=\"sf-sub-indicator\"></span></a>\\r\\n\\t\\t\\t\\t\\t\\t\\t\\t\\t<ul>\\r\\n\\t\\t\\t\\t\\t\\t\\t\\t\\t\\t<li><a href=\"http://www2.assemblee-nationale.fr/15/statistiques-de-l-activite-parlementaire\">Statistiques de la session en cours</a></li>\\r\\n\\t\\t\\t\\t\\t\\t\\t\\t\\t\\t<li><a href=\"http://www2.assemblee-nationale.fr/15/statistiques-de-l-activite-parlementaire/bulletins-annuels\">Bulletins annuels</a></li>\\r\\n\\t\\t\\t\\t\\t\\t\\t\\t\\t</ul>\\r\\n\\t\\t\\t\\t\\t\\t\\t\\t</li>\\r\\n\\t\\t\\t\\t\\t\\t\\t\\t<li><a href=\"/connaissance/comptesan.asp\">Comptes de l\\'Assemblée</a></li>\\r\\n\\t\\t\\t\\t\\t\\t\\t\\t<li><a href=\"http://www2.assemblee-nationale.fr/decouvrir-l-assemblee/histoire\">Histoire</a></li>\\r\\n\\t\\t\\t\\t\\t\\t\\t\\t<li><a href=\"http://www2.assemblee-nationale.fr/decouvrir-l-assemblee/patrimoine\">Patrimoine</a></li>\\r\\n\\t\\t\\t\\t\\t\\t\\t\\t<li><a href=\"/juniors/index.asp\">Juniors</a></li>\\r\\n\\t\\t\\t\\t\\t\\t\\t\\t<li><a href=\"http://archives.assemblee-nationale.fr/\">Site des archives de l\\'Assemblée nationale</a></li>\\r\\n\\t\\t\\t\\t\\t\\t\\t</ul>\\r\\n\\t\\t\\t\\t\\t\\t</li>\\r\\n\\t\\t\\t\\t\\t\\t<li id=\"nav-infos\">\\r\\n\\t\\t\\t\\t\\t\\t\\t<a href=\"#\">Informations<br/>pratiques<span class=\"bord\"> </span></a>\\r\\n\\t\\t\\t\\t\\t\\t\\t<ul>\\r\\n\\t\\t\\t\\t\\t\\t\\t\\t<li><a href=\"/infos/services.asp\">Les services de l\\x92Assemblée</a></li>\\r\\n\\t\\t\\t\\t\\t\\t\\t\\t<li><a href=\"/concours/index.asp\">Concours et recrutement</a></li>\\r\\n\\t\\t\\t\\t\\t\\t\\t\\t<li><a href=\"/marches-publics/index.asp\">Marchés publics</a></li>\\r\\n\\t\\t\\t\\t\\t\\t\\t\\t<li><a href=\"http://www2.assemblee-nationale.fr/informations-pratiques/archives-et-bibliotheque\">Bibliothèque et archives</a></li>\\r\\n\\t\\t\\t\\t\\t\\t\\t\\t<li><a href=\"/plan.asp\">Plan du site</a></li>\\r\\n\\t\\t\\t\\t\\t\\t\\t\\t<li><a href=\"/infos/venir.asp\">Contact et plan d\\'accès</a></li>\\r\\n\\t\\t\\t\\t\\t\\t\\t</ul>\\r\\n\\t\\t\\t\\t\\t\\t</li>\\r\\n\\t\\t\\t\\t\\t</ul><!-- /.sf-menu -->\\r\\n\\t\\t\\t<!-- Nav - updated for accessibility -->\\r\\n\\t\\t\\t</div> <!-- /#header-inner, used to center header content -->\\r\\n\\t\\t\\t<div id=\"header-shadow\"></div><!-- Horizontal shadow below the Nav -->\\r\\n\\t\\t</div> <!-- /#header -->\\r\\n\\t</div> <!-- /#wrapper -->\\r\\n</header>\\r\\n<div id=\"menu-shadow\"></div>\\r\\n<!-- Contenu -->\\r\\n<div id=\"redirectNouveauDL\"></div>\\r\\n\\n<table  width=\"100%\" cellspacing=\"0\" cellpadding=\"0\" border=\"0\" >\\r\\n<tr valign=\"top\">\\r\\n<td  valign=\"top\" ><div align=\"left\"><font face=\"Arial\" size=\"2\">\\r\\n<a class=\"menu\"  href=\"/index.asp\">Accueil</a>&nbsp;&gt;\\r\\n<a class=\"menu\" href=\"/9/documents/index-dossier.asp\">Dossiers</a></font></div>\\r\\n</td></tr></table>\\r\\n\\n<p align=\"center\"><table width=\"90%\" cellspacing=\"0\" cellpadding=\"0\" border=\"0\" ><tr><td>\\r\\n<a href=\"/juniors/schema.asp\"><img border=\"0\" src=\"/images/procedure.jpg\"></a>\\r\\n</td></tr></table></p><br>\\r\\n\\n<p align=\"center\"><b><font face=\"ARIAL\" size=\"3\" color=\"#000080\">ABATTEMENT DE LA TAXE D\\'HABITATION</font></b><br>\\r\\n<div align=\"center\"><font face=\"ARIAL\" size=\"2\" color=\"#000080\">( 4 octobre 2005 )</font></div>\\r\\n<div align=\"center\"><i><font face=\"ARIAL\" size=\"1\">(Les informations concernant les réunions à venir ont un caractère prévisionnel et sont susceptibles d\\'être modifiées)</font></div>\\r\\n</p>\\n\\n<div align=\"center\"><table width=\"90%\" cellspacing=\"0\" cellpadding=\"0\" border=\"0\">\\r\\n<tr><td><script  LANGUAGE=\"JavaScript\">\\r\\nvar openedWindow = null;\\r\\nfunction closeOpenedWindow() {\\r\\nif(openedWindow != null) {\\r\\n  if(!openedWindow.closed) \\r\\n    openedWindow.close();}}\\r\\nfunction ouvre_popup(fichier) {\\r\\ncloseOpenedWindow();\\r\\nopenedWindow=window.open(fichier,\"popup\",\"width=300,height=400,left=30,top=20,scrollbars=yes\") }\\r\\n</script>\\n\\n\\r\\n\\r\\n\\n\\n\\n\\n<p align=\"center\"><b><font color=\"#000080\">Travaux préparatoires</font></b><br>\\n<div align=\"center\"><a href=\"#ETAPE127551\"> <font face=\"Arial\" size=\"1\">Assemblée nationale 1<sup>ère</sup> lecture</font></a></div><p>\\n<p align=\"center\"><b><font color=\"#000099\" size=\"2\" face=\"Arial\"><a name=\"ETAPE127551\"></a>Assemblée nationale - 1<sup>ère</sup> lecture</font></b></p>\\n\\n<p><div align=\"left\">Proposition de loi de M. <a target=\"_blank\" href=\"http://www.senat.fr/senateur/masson_jean_louis01060r.html\">Jean Louis MASSON</a>  et <a href=\"javascript:ouvre_popup(\\'cosignataires_34389.html\\')\">plusieurs de ses collègues</a>  TENDANT A COMPLETER L\\'ARTICLE 1411 DU CODE GENERAL DES IMPOTS AFIN DE FAIRE BENEFICIER D\\'UN ABATTEMENT SUR LA TAXE D\\'HABITATION LES PERSONNES AGEES DE PLUS DE SOIXANTE-CINQ ANS ET AYANT ELEVE TROIS ENFANTS ET PLUS, n° 97, déposée le  6 juillet 1988<br> et renvoyée à <a href=\"/commissions/59051_tab.asp\">la commission des lois constitutionnelles, de la législation et de l\\'administration générale de la république</a><br>.\\n\\n\\n\\n\\n\\n\\n\\n\\n\\n\\n\\n\\n\\n\\n\\n\\n\\n\\n\\n\\n<p><hr></p>\\n\\n\\r\\n<font FACE=\"Arial\" SIZE=\"2\">© Assemblée nationale</font>\\r\\n</td></tr>\\r\\n</table></div>\\n</body></html>\\n'"
      ]
     },
     "execution_count": 4,
     "metadata": {},
     "output_type": "execute_result"
    }
   ],
   "source": [
    "page.text"
   ]
  },
  {
   "cell_type": "code",
   "execution_count": 5,
   "metadata": {},
   "outputs": [],
   "source": [
    "page.text\n",
    "page_soup = bs(page.text, \"html.parser\")"
   ]
  },
  {
   "cell_type": "code",
   "execution_count": 6,
   "metadata": {},
   "outputs": [],
   "source": [
    "content = page_soup.find_all(align=\"left\")[1]"
   ]
  },
  {
   "cell_type": "code",
   "execution_count": 7,
   "metadata": {},
   "outputs": [
    {
     "name": "stdout",
     "output_type": "stream",
     "text": [
      "<div align=\"left\">Proposition de loi de M. <a href=\"http://www.senat.fr/senateur/masson_jean_louis01060r.html\" target=\"_blank\">Jean Louis MASSON</a>  et <a href=\"javascript:ouvre_popup('cosignataires_34389.html')\">plusieurs de ses collègues</a>  TENDANT A COMPLETER L'ARTICLE 1411 DU CODE GENERAL DES IMPOTS AFIN DE FAIRE BENEFICIER D'UN ABATTEMENT SUR LA TAXE D'HABITATION LES PERSONNES AGEES DE PLUS DE SOIXANTE-CINQ ANS ET AYANT ELEVE TROIS ENFANTS ET PLUS, n° 97, déposée le  6 juillet 1988<br/> et renvoyée à <a href=\"/commissions/59051_tab.asp\">la commission des lois constitutionnelles, de la législation et de l'administration générale de la république</a><br/>.\n",
      "\n",
      "\n",
      "\n",
      "\n",
      "\n",
      "\n",
      "\n",
      "\n",
      "\n",
      "\n",
      "\n",
      "\n",
      "\n",
      "\n",
      "\n",
      "\n",
      "\n",
      "\n",
      "\n",
      "\n",
      "<p><hr/></p>\n",
      "<font face=\"Arial\" size=\"2\">© Assemblée nationale</font>\n",
      "</div>\n"
     ]
    }
   ],
   "source": [
    "print(content)"
   ]
  },
  {
   "cell_type": "code",
   "execution_count": 8,
   "metadata": {},
   "outputs": [
    {
     "data": {
      "text/plain": [
       "\"TENDANT A COMPLETER L'ARTICLE 1411 DU CODE GENERAL DES IMPOTS AFIN DE FAIRE BENEFICIER D'UN ABATTEMENT SUR LA TAXE D'HABITATION LES PERSONNES AGEES DE PLUS DE SOIXANTE-CINQ ANS ET AYANT ELEVE TROIS ENFANTS ET PLUS\""
      ]
     },
     "execution_count": 8,
     "metadata": {},
     "output_type": "execute_result"
    }
   ],
   "source": [
    "content_text = page_soup.find_all(align=\"left\")[1].text\n",
    "ind_1 = content_text.split(\"\\n\")[0].find(content.find_all(\"a\")[-2].text)+len(content.find_all(\"a\")[-2].text)+2\n",
    "ind_2 = content_text.split(\"\\n\")[0].find(\"n°\")-2\n",
    "content_text.split(\"\\n\")[0][ind_1:ind_2]"
   ]
  },
  {
   "cell_type": "code",
   "execution_count": 9,
   "metadata": {},
   "outputs": [
    {
     "data": {
      "text/plain": [
       "str"
      ]
     },
     "execution_count": 9,
     "metadata": {},
     "output_type": "execute_result"
    }
   ],
   "source": [
    "type(content_text.split(\"\\n\")[0][ind_1:ind_2])"
   ]
  },
  {
   "cell_type": "code",
   "execution_count": null,
   "metadata": {},
   "outputs": [],
   "source": []
  }
 ],
 "metadata": {
  "kernelspec": {
   "display_name": "Python 3",
   "language": "python",
   "name": "python3"
  },
  "language_info": {
   "codemirror_mode": {
    "name": "ipython",
    "version": 3
   },
   "file_extension": ".py",
   "mimetype": "text/x-python",
   "name": "python",
   "nbconvert_exporter": "python",
   "pygments_lexer": "ipython3",
   "version": "3.6.5"
  }
 },
 "nbformat": 4,
 "nbformat_minor": 2
}
